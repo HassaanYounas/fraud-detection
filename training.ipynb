{
 "cells": [
  {
   "cell_type": "markdown",
   "metadata": {},
   "source": [
    "### All imports in one place"
   ]
  },
  {
   "cell_type": "code",
   "execution_count": 1,
   "metadata": {},
   "outputs": [],
   "source": [
    "import pickle\n",
    "import warnings\n",
    "import numpy as np\n",
    "import pandas as pd\n",
    "from sklearn.svm import SVC\n",
    "from keras.layers import Dense\n",
    "from keras.models import Sequential\n",
    "from sklearn.tree import DecisionTreeClassifier\n",
    "from sklearn.preprocessing import StandardScaler\n",
    "from sklearn.neighbors import KNeighborsClassifier"
   ]
  },
  {
   "cell_type": "markdown",
   "metadata": {},
   "source": [
    "### Ignoring warnings"
   ]
  },
  {
   "cell_type": "code",
   "execution_count": 2,
   "metadata": {},
   "outputs": [],
   "source": [
    "warnings.filterwarnings('ignore')"
   ]
  },
  {
   "cell_type": "markdown",
   "metadata": {},
   "source": [
    "### Loading dataset and labels"
   ]
  },
  {
   "cell_type": "code",
   "execution_count": 3,
   "metadata": {},
   "outputs": [],
   "source": [
    "dataset = pd.read_csv('corpora/x_train.csv')\n",
    "labels = pd.read_csv('corpora/y_train.csv')"
   ]
  },
  {
   "cell_type": "markdown",
   "metadata": {},
   "source": [
    "### Some general information about the dataset"
   ]
  },
  {
   "cell_type": "code",
   "execution_count": 4,
   "metadata": {},
   "outputs": [
    {
     "name": "stdout",
     "output_type": "stream",
     "text": [
      "<class 'pandas.core.frame.DataFrame'>\n",
      "RangeIndex: 14165 entries, 0 to 14164\n",
      "Data columns (total 10 columns):\n",
      " #   Column          Non-Null Count  Dtype  \n",
      "---  ------          --------------  -----  \n",
      " 0   step            14165 non-null  float64\n",
      " 1   type            14165 non-null  object \n",
      " 2   amount          14165 non-null  float64\n",
      " 3   nameOrig        14165 non-null  object \n",
      " 4   oldbalanceOrg   14165 non-null  float64\n",
      " 5   newbalanceOrig  14165 non-null  float64\n",
      " 6   nameDest        14165 non-null  object \n",
      " 7   oldbalanceDest  14165 non-null  float64\n",
      " 8   newbalanceDest  14165 non-null  float64\n",
      " 9   isFlaggedFraud  14165 non-null  float64\n",
      "dtypes: float64(7), object(3)\n",
      "memory usage: 1.1+ MB\n",
      "<class 'pandas.core.frame.DataFrame'>\n",
      "RangeIndex: 14165 entries, 0 to 14164\n",
      "Data columns (total 1 columns):\n",
      " #   Column   Non-Null Count  Dtype  \n",
      "---  ------   --------------  -----  \n",
      " 0   isFraud  14165 non-null  float64\n",
      "dtypes: float64(1)\n",
      "memory usage: 110.8 KB\n"
     ]
    }
   ],
   "source": [
    "dataset.info()\n",
    "labels.info()"
   ]
  },
  {
   "cell_type": "markdown",
   "metadata": {},
   "source": [
    "### Replacing the type column values with integers"
   ]
  },
  {
   "cell_type": "code",
   "execution_count": 5,
   "metadata": {},
   "outputs": [],
   "source": [
    "dataset['type'].replace({\n",
    "    'CASH_OUT' : 1,\n",
    "    'PAYMENT'  : 2,\n",
    "    'CASH_IN'  : 3,\n",
    "    'TRANSFER' : 4,\n",
    "    'DEBIT'    : 5\n",
    "}, inplace=True)"
   ]
  },
  {
   "cell_type": "markdown",
   "metadata": {},
   "source": [
    "### Converting the nameOrig and nameDest into integers"
   ]
  },
  {
   "cell_type": "code",
   "execution_count": 6,
   "metadata": {},
   "outputs": [],
   "source": [
    "for i in dataset.index:\n",
    "    nameOrig = dataset.at[i, 'nameOrig']\n",
    "    nameOrigP = '0' + nameOrig[1:]\n",
    "    dataset.loc[i, 'nameOrig'] = nameOrigP \n",
    "    nameDest = dataset.at[i, 'nameDest']\n",
    "    if nameDest[0] == 'C':\n",
    "        nameDestP = '0' + nameDest[1:]\n",
    "        dataset.loc[i, 'nameDest'] = nameDestP\n",
    "    elif nameDest[0] == 'M':\n",
    "        nameDestP = '1' + nameDest[1:]\n",
    "        dataset.loc[i, 'nameDest'] = nameDestP"
   ]
  },
  {
   "cell_type": "markdown",
   "metadata": {},
   "source": [
    "### Type casting all the columns to float64"
   ]
  },
  {
   "cell_type": "code",
   "execution_count": 7,
   "metadata": {},
   "outputs": [
    {
     "data": {
      "text/plain": [
       "step              float64\n",
       "type              float64\n",
       "amount            float64\n",
       "nameOrig          float64\n",
       "oldbalanceOrg     float64\n",
       "newbalanceOrig    float64\n",
       "nameDest          float64\n",
       "oldbalanceDest    float64\n",
       "newbalanceDest    float64\n",
       "isFlaggedFraud    float64\n",
       "dtype: object"
      ]
     },
     "execution_count": 7,
     "metadata": {},
     "output_type": "execute_result"
    }
   ],
   "source": [
    "dataset.astype('float64').dtypes"
   ]
  },
  {
   "cell_type": "markdown",
   "metadata": {},
   "source": [
    "### Scaling all the columns using the StandardScaler"
   ]
  },
  {
   "cell_type": "code",
   "execution_count": 8,
   "metadata": {},
   "outputs": [],
   "source": [
    "standardScaler = StandardScaler()\n",
    "columns_to_scale = [\n",
    "    'step',\n",
    "    'amount',\n",
    "    'nameOrig',\n",
    "    'oldbalanceOrg',\n",
    "    'newbalanceOrig',\n",
    "    'nameDest',\n",
    "    'oldbalanceDest', \n",
    "    'newbalanceDest'\n",
    "]\n",
    "dataset[columns_to_scale] = standardScaler.fit_transform(dataset[columns_to_scale])"
   ]
  },
  {
   "cell_type": "markdown",
   "metadata": {},
   "source": [
    "### Training sets"
   ]
  },
  {
   "cell_type": "code",
   "execution_count": 9,
   "metadata": {},
   "outputs": [],
   "source": [
    "x_train, y_train = dataset, labels"
   ]
  },
  {
   "cell_type": "markdown",
   "metadata": {},
   "source": [
    "### Training and saving the KNN Classifier with K = 5"
   ]
  },
  {
   "cell_type": "code",
   "execution_count": 105,
   "metadata": {},
   "outputs": [],
   "source": [
    "knn_classifier = KNeighborsClassifier(n_neighbors=5)\n",
    "knn_classifier.fit(x_train, y_train)\n",
    "pickle.dump(knn_classifier, open('models/knn_classifier.sav', 'wb'))"
   ]
  },
  {
   "cell_type": "markdown",
   "metadata": {},
   "source": [
    "### Training and saving the SV Classifier with a linear kernel"
   ]
  },
  {
   "cell_type": "code",
   "execution_count": 106,
   "metadata": {},
   "outputs": [],
   "source": [
    "svc_classifier = SVC(kernel='linear')\n",
    "svc_classifier.fit(x_train, y_train)\n",
    "pickle.dump(svc_classifier, open('models/svc_classifier.sav', 'wb'))"
   ]
  },
  {
   "cell_type": "markdown",
   "metadata": {},
   "source": [
    "### Training and saving the DT Classifier with as many features as columns in dataset"
   ]
  },
  {
   "cell_type": "code",
   "execution_count": 107,
   "metadata": {},
   "outputs": [],
   "source": [
    "dt_classifier = DecisionTreeClassifier(max_features=len(x_train.columns), random_state=0)\n",
    "dt_classifier.fit(x_train, y_train)\n",
    "pickle.dump(dt_classifier, open('models/dt_classifier.sav', 'wb'))"
   ]
  },
  {
   "cell_type": "markdown",
   "metadata": {},
   "source": [
    "### Preparing data for Neural Network training"
   ]
  },
  {
   "cell_type": "code",
   "execution_count": 10,
   "metadata": {},
   "outputs": [],
   "source": [
    "x_train = pd.DataFrame(x_train).to_numpy()\n",
    "y_train = pd.DataFrame(y_train).to_numpy()"
   ]
  },
  {
   "cell_type": "markdown",
   "metadata": {},
   "source": [
    "### Defining and training Neural Network"
   ]
  },
  {
   "cell_type": "code",
   "execution_count": 13,
   "metadata": {},
   "outputs": [
    {
     "name": "stdout",
     "output_type": "stream",
     "text": [
      "Epoch 1/150\n",
      "1417/1417 [==============================] - 3s 2ms/step - loss: 0.2093\n",
      "Epoch 2/150\n",
      "1417/1417 [==============================] - 2s 1ms/step - loss: 0.0408\n",
      "Epoch 3/150\n",
      "1417/1417 [==============================] - 2s 1ms/step - loss: 0.0308\n",
      "Epoch 4/150\n",
      "1417/1417 [==============================] - 2s 1ms/step - loss: 0.0300\n",
      "Epoch 5/150\n",
      "1417/1417 [==============================] - 2s 2ms/step - loss: 0.0341\n",
      "Epoch 6/150\n",
      "1417/1417 [==============================] - 2s 1ms/step - loss: 0.0247\n",
      "Epoch 7/150\n",
      "1417/1417 [==============================] - 2s 1ms/step - loss: 0.0321\n",
      "Epoch 8/150\n",
      "1417/1417 [==============================] - 2s 1ms/step - loss: 0.0300\n",
      "Epoch 9/150\n",
      "1417/1417 [==============================] - 2s 1ms/step - loss: 0.0238\n",
      "Epoch 10/150\n",
      "1417/1417 [==============================] - 2s 1ms/step - loss: 0.0226\n",
      "Epoch 11/150\n",
      "1417/1417 [==============================] - 2s 1ms/step - loss: 0.0235\n",
      "Epoch 12/150\n",
      "1417/1417 [==============================] - 2s 1ms/step - loss: 0.0222\n",
      "Epoch 13/150\n",
      "1417/1417 [==============================] - 2s 1ms/step - loss: 0.0237\n",
      "Epoch 14/150\n",
      "1417/1417 [==============================] - 2s 2ms/step - loss: 0.0232\n",
      "Epoch 15/150\n",
      "1417/1417 [==============================] - 2s 2ms/step - loss: 0.0243\n",
      "Epoch 16/150\n",
      "1417/1417 [==============================] - 2s 1ms/step - loss: 0.0216\n",
      "Epoch 17/150\n",
      "1417/1417 [==============================] - 2s 2ms/step - loss: 0.0221\n",
      "Epoch 18/150\n",
      "1417/1417 [==============================] - 2s 1ms/step - loss: 0.0200\n",
      "Epoch 19/150\n",
      "1417/1417 [==============================] - 2s 1ms/step - loss: 0.0177\n",
      "Epoch 20/150\n",
      "1417/1417 [==============================] - 2s 2ms/step - loss: 0.0215\n",
      "Epoch 21/150\n",
      "1417/1417 [==============================] - 2s 2ms/step - loss: 0.0190\n",
      "Epoch 22/150\n",
      "1417/1417 [==============================] - 2s 1ms/step - loss: 0.0205\n",
      "Epoch 23/150\n",
      "1417/1417 [==============================] - 2s 2ms/step - loss: 0.0192\n",
      "Epoch 24/150\n",
      "1417/1417 [==============================] - 2s 2ms/step - loss: 0.0226\n",
      "Epoch 25/150\n",
      "1417/1417 [==============================] - 2s 2ms/step - loss: 0.0199\n",
      "Epoch 26/150\n",
      "1417/1417 [==============================] - 2s 2ms/step - loss: 0.0214\n",
      "Epoch 27/150\n",
      "1417/1417 [==============================] - 2s 2ms/step - loss: 0.0176\n",
      "Epoch 28/150\n",
      "1417/1417 [==============================] - 2s 2ms/step - loss: 0.0177\n",
      "Epoch 29/150\n",
      "1417/1417 [==============================] - 2s 2ms/step - loss: 0.0195\n",
      "Epoch 30/150\n",
      "1417/1417 [==============================] - 2s 2ms/step - loss: 0.0176\n",
      "Epoch 31/150\n",
      "1417/1417 [==============================] - 2s 2ms/step - loss: 0.0153\n",
      "Epoch 32/150\n",
      "1417/1417 [==============================] - 2s 2ms/step - loss: 0.0175\n",
      "Epoch 33/150\n",
      "1417/1417 [==============================] - 2s 2ms/step - loss: 0.0145\n",
      "Epoch 34/150\n",
      "1417/1417 [==============================] - 2s 2ms/step - loss: 0.0163\n",
      "Epoch 35/150\n",
      "1417/1417 [==============================] - 2s 2ms/step - loss: 0.0157\n",
      "Epoch 36/150\n",
      "1417/1417 [==============================] - 2s 2ms/step - loss: 0.0183\n",
      "Epoch 37/150\n",
      "1417/1417 [==============================] - 2s 2ms/step - loss: 0.0160\n",
      "Epoch 38/150\n",
      "1417/1417 [==============================] - 2s 2ms/step - loss: 0.0136\n",
      "Epoch 39/150\n",
      "1417/1417 [==============================] - 2s 2ms/step - loss: 0.0165\n",
      "Epoch 40/150\n",
      "1417/1417 [==============================] - 2s 1ms/step - loss: 0.0178\n",
      "Epoch 41/150\n",
      "1417/1417 [==============================] - 2s 1ms/step - loss: 0.0180\n",
      "Epoch 42/150\n",
      "1417/1417 [==============================] - 2s 1ms/step - loss: 0.0132\n",
      "Epoch 43/150\n",
      "1417/1417 [==============================] - 2s 1ms/step - loss: 0.0163\n",
      "Epoch 44/150\n",
      "1417/1417 [==============================] - 2s 1ms/step - loss: 0.0137\n",
      "Epoch 45/150\n",
      "1417/1417 [==============================] - 2s 1ms/step - loss: 0.0182\n",
      "Epoch 46/150\n",
      "1417/1417 [==============================] - 2s 2ms/step - loss: 0.0134\n",
      "Epoch 47/150\n",
      "1417/1417 [==============================] - 2s 2ms/step - loss: 0.0182\n",
      "Epoch 48/150\n",
      "1417/1417 [==============================] - 2s 2ms/step - loss: 0.0140\n",
      "Epoch 49/150\n",
      "1417/1417 [==============================] - 2s 1ms/step - loss: 0.0181\n",
      "Epoch 50/150\n",
      "1417/1417 [==============================] - 2s 1ms/step - loss: 0.0188\n",
      "Epoch 51/150\n",
      "1417/1417 [==============================] - 2s 1ms/step - loss: 0.0134\n",
      "Epoch 52/150\n",
      "1417/1417 [==============================] - 2s 2ms/step - loss: 0.0126\n",
      "Epoch 53/150\n",
      "1417/1417 [==============================] - 2s 2ms/step - loss: 0.0132\n",
      "Epoch 54/150\n",
      "1417/1417 [==============================] - 2s 1ms/step - loss: 0.0147\n",
      "Epoch 55/150\n",
      "1417/1417 [==============================] - 2s 2ms/step - loss: 0.0184\n",
      "Epoch 56/150\n",
      "1417/1417 [==============================] - 2s 1ms/step - loss: 0.0117\n",
      "Epoch 57/150\n",
      "1417/1417 [==============================] - 2s 1ms/step - loss: 0.0112\n",
      "Epoch 58/150\n",
      "1417/1417 [==============================] - 2s 2ms/step - loss: 0.0148\n",
      "Epoch 59/150\n",
      "1417/1417 [==============================] - 3s 2ms/step - loss: 0.0149\n",
      "Epoch 60/150\n",
      "1417/1417 [==============================] - 3s 2ms/step - loss: 0.0117\n",
      "Epoch 61/150\n",
      "1417/1417 [==============================] - 2s 2ms/step - loss: 0.0141\n",
      "Epoch 62/150\n",
      "1417/1417 [==============================] - 2s 2ms/step - loss: 0.0112\n",
      "Epoch 63/150\n",
      "1417/1417 [==============================] - 2s 2ms/step - loss: 0.0161\n",
      "Epoch 64/150\n",
      "1417/1417 [==============================] - 2s 2ms/step - loss: 0.0140\n",
      "Epoch 65/150\n",
      "1417/1417 [==============================] - 3s 2ms/step - loss: 0.0120\n",
      "Epoch 66/150\n",
      "1417/1417 [==============================] - 3s 2ms/step - loss: 0.0158\n",
      "Epoch 67/150\n",
      "1417/1417 [==============================] - 3s 2ms/step - loss: 0.0159\n",
      "Epoch 68/150\n",
      "1417/1417 [==============================] - 2s 2ms/step - loss: 0.0113\n",
      "Epoch 69/150\n",
      "1417/1417 [==============================] - 2s 2ms/step - loss: 0.0125\n",
      "Epoch 70/150\n",
      "1417/1417 [==============================] - 2s 1ms/step - loss: 0.0142\n",
      "Epoch 71/150\n",
      "1417/1417 [==============================] - 2s 1ms/step - loss: 0.0118\n",
      "Epoch 72/150\n",
      "1417/1417 [==============================] - 2s 1ms/step - loss: 0.0163\n",
      "Epoch 73/150\n",
      "1417/1417 [==============================] - 2s 1ms/step - loss: 0.0115\n",
      "Epoch 74/150\n",
      "1417/1417 [==============================] - 2s 1ms/step - loss: 0.0145\n",
      "Epoch 75/150\n",
      "1417/1417 [==============================] - 2s 1ms/step - loss: 0.0137\n",
      "Epoch 76/150\n",
      "1417/1417 [==============================] - 2s 1ms/step - loss: 0.0149\n",
      "Epoch 77/150\n",
      "1417/1417 [==============================] - 2s 1ms/step - loss: 0.0131\n",
      "Epoch 78/150\n",
      "1417/1417 [==============================] - 2s 1ms/step - loss: 0.0121\n",
      "Epoch 79/150\n",
      "1417/1417 [==============================] - 2s 1ms/step - loss: 0.0156\n",
      "Epoch 80/150\n",
      "1417/1417 [==============================] - 2s 1ms/step - loss: 0.0132\n",
      "Epoch 81/150\n",
      "1417/1417 [==============================] - 2s 1ms/step - loss: 0.0155\n",
      "Epoch 82/150\n",
      "1417/1417 [==============================] - 2s 1ms/step - loss: 0.0127\n",
      "Epoch 83/150\n",
      "1417/1417 [==============================] - 2s 1ms/step - loss: 0.0147\n",
      "Epoch 84/150\n",
      "1417/1417 [==============================] - 2s 1ms/step - loss: 0.0144\n",
      "Epoch 85/150\n",
      "1417/1417 [==============================] - 2s 1ms/step - loss: 0.0125\n",
      "Epoch 86/150\n",
      "1417/1417 [==============================] - 2s 1ms/step - loss: 0.0121\n",
      "Epoch 87/150\n",
      "1417/1417 [==============================] - 2s 1ms/step - loss: 0.0134\n",
      "Epoch 88/150\n",
      "1417/1417 [==============================] - 2s 1ms/step - loss: 0.0142\n",
      "Epoch 89/150\n",
      "1417/1417 [==============================] - 2s 1ms/step - loss: 0.0112\n",
      "Epoch 90/150\n",
      "1417/1417 [==============================] - 2s 1ms/step - loss: 0.0124\n",
      "Epoch 91/150\n",
      "1417/1417 [==============================] - 2s 1ms/step - loss: 0.0204\n",
      "Epoch 92/150\n",
      "1417/1417 [==============================] - 2s 1ms/step - loss: 0.0118\n",
      "Epoch 93/150\n",
      "1417/1417 [==============================] - 2s 1ms/step - loss: 0.0142\n",
      "Epoch 94/150\n",
      "1417/1417 [==============================] - 2s 1ms/step - loss: 0.0133\n",
      "Epoch 95/150\n",
      "1417/1417 [==============================] - 2s 2ms/step - loss: 0.0122\n",
      "Epoch 96/150\n",
      "1417/1417 [==============================] - 2s 1ms/step - loss: 0.0125\n",
      "Epoch 97/150\n",
      "1417/1417 [==============================] - 2s 1ms/step - loss: 0.0148\n",
      "Epoch 98/150\n",
      "1417/1417 [==============================] - 2s 1ms/step - loss: 0.0156\n",
      "Epoch 99/150\n",
      "1417/1417 [==============================] - 2s 2ms/step - loss: 0.0114\n",
      "Epoch 100/150\n",
      "1417/1417 [==============================] - 2s 2ms/step - loss: 0.0117\n",
      "Epoch 101/150\n",
      "1417/1417 [==============================] - 2s 1ms/step - loss: 0.0126\n",
      "Epoch 102/150\n",
      "1417/1417 [==============================] - 2s 1ms/step - loss: 0.0159\n",
      "Epoch 103/150\n",
      "1417/1417 [==============================] - 2s 1ms/step - loss: 0.0153\n",
      "Epoch 104/150\n",
      "1417/1417 [==============================] - 2s 1ms/step - loss: 0.0107\n",
      "Epoch 105/150\n",
      "1417/1417 [==============================] - 2s 1ms/step - loss: 0.0129\n",
      "Epoch 106/150\n",
      "1417/1417 [==============================] - 2s 1ms/step - loss: 0.0133\n",
      "Epoch 107/150\n",
      "1417/1417 [==============================] - 2s 1ms/step - loss: 0.0110\n",
      "Epoch 108/150\n",
      "1417/1417 [==============================] - 2s 1ms/step - loss: 0.0093\n",
      "Epoch 109/150\n",
      "1417/1417 [==============================] - 2s 1ms/step - loss: 0.0097\n",
      "Epoch 110/150\n",
      "1417/1417 [==============================] - 3s 2ms/step - loss: 0.0111\n",
      "Epoch 111/150\n",
      "1417/1417 [==============================] - 4s 3ms/step - loss: 0.0130\n",
      "Epoch 112/150\n",
      "1417/1417 [==============================] - 3s 2ms/step - loss: 0.0148\n",
      "Epoch 113/150\n",
      "1417/1417 [==============================] - 3s 2ms/step - loss: 0.0097\n",
      "Epoch 114/150\n",
      "1417/1417 [==============================] - 3s 2ms/step - loss: 0.0110\n",
      "Epoch 115/150\n",
      "1417/1417 [==============================] - 2s 2ms/step - loss: 0.0159\n",
      "Epoch 116/150\n",
      "1417/1417 [==============================] - 2s 2ms/step - loss: 0.0124\n",
      "Epoch 117/150\n",
      "1417/1417 [==============================] - 3s 2ms/step - loss: 0.0115A: 0s\n",
      "Epoch 118/150\n",
      "1417/1417 [==============================] - 3s 2ms/step - loss: 0.0139\n",
      "Epoch 119/150\n",
      "1417/1417 [==============================] - 3s 2ms/step - loss: 0.0111\n",
      "Epoch 120/150\n",
      "1417/1417 [==============================] - 3s 2ms/step - loss: 0.0099\n",
      "Epoch 121/150\n",
      "1417/1417 [==============================] - 3s 2ms/step - loss: 0.0135\n",
      "Epoch 122/150\n",
      "1417/1417 [==============================] - 3s 2ms/step - loss: 0.0133\n",
      "Epoch 123/150\n",
      "1417/1417 [==============================] - 3s 2ms/step - loss: 0.0090\n",
      "Epoch 124/150\n",
      "1417/1417 [==============================] - 3s 2ms/step - loss: 0.0140\n",
      "Epoch 125/150\n",
      "1417/1417 [==============================] - 3s 2ms/step - loss: 0.0130\n",
      "Epoch 126/150\n",
      "1417/1417 [==============================] - 3s 2ms/step - loss: 0.0104\n",
      "Epoch 127/150\n",
      "1417/1417 [==============================] - 3s 2ms/step - loss: 0.0111\n",
      "Epoch 128/150\n",
      "1417/1417 [==============================] - 3s 2ms/step - loss: 0.0158\n",
      "Epoch 129/150\n",
      "1417/1417 [==============================] - 3s 2ms/step - loss: 0.0162\n",
      "Epoch 130/150\n",
      "1417/1417 [==============================] - 3s 2ms/step - loss: 0.0098\n",
      "Epoch 131/150\n",
      "1417/1417 [==============================] - 3s 2ms/step - loss: 0.0114\n",
      "Epoch 132/150\n",
      "1417/1417 [==============================] - 3s 2ms/step - loss: 0.0143\n",
      "Epoch 133/150\n",
      "1417/1417 [==============================] - 3s 2ms/step - loss: 0.0118\n",
      "Epoch 134/150\n",
      "1417/1417 [==============================] - 3s 2ms/step - loss: 0.0164\n",
      "Epoch 135/150\n",
      "1417/1417 [==============================] - 3s 2ms/step - loss: 0.0136\n",
      "Epoch 136/150\n",
      "1417/1417 [==============================] - 3s 2ms/step - loss: 0.0099\n",
      "Epoch 137/150\n",
      "1417/1417 [==============================] - 3s 2ms/step - loss: 0.0134\n",
      "Epoch 138/150\n",
      "1417/1417 [==============================] - 3s 2ms/step - loss: 0.0108\n",
      "Epoch 139/150\n",
      "1417/1417 [==============================] - 3s 2ms/step - loss: 0.0119\n",
      "Epoch 140/150\n",
      "1417/1417 [==============================] - 3s 2ms/step - loss: 0.0114\n",
      "Epoch 141/150\n",
      "1417/1417 [==============================] - 3s 2ms/step - loss: 0.0120\n",
      "Epoch 142/150\n",
      "1417/1417 [==============================] - 3s 2ms/step - loss: 0.0127\n",
      "Epoch 143/150\n",
      "1417/1417 [==============================] - 3s 2ms/step - loss: 0.0135\n",
      "Epoch 144/150\n",
      "1417/1417 [==============================] - 3s 2ms/step - loss: 0.0116\n",
      "Epoch 145/150\n",
      "1417/1417 [==============================] - 3s 2ms/step - loss: 0.0131\n",
      "Epoch 146/150\n",
      "1417/1417 [==============================] - 3s 2ms/step - loss: 0.0116\n",
      "Epoch 147/150\n",
      "1417/1417 [==============================] - 3s 2ms/step - loss: 0.0109\n",
      "Epoch 148/150\n",
      "1417/1417 [==============================] - 3s 2ms/step - loss: 0.0119\n",
      "Epoch 149/150\n",
      "1417/1417 [==============================] - 3s 2ms/step - loss: 0.0118\n",
      "Epoch 150/150\n",
      "1417/1417 [==============================] - 3s 2ms/step - loss: 0.0132\n"
     ]
    },
    {
     "data": {
      "text/plain": [
       "<tensorflow.python.keras.callbacks.History at 0x273a5016710>"
      ]
     },
     "execution_count": 13,
     "metadata": {},
     "output_type": "execute_result"
    }
   ],
   "source": [
    "model = Sequential()\n",
    "model.add(Dense(12, input_dim=10, activation='relu'))\n",
    "model.add(Dense(8, activation='relu'))\n",
    "model.add(Dense(1, activation='sigmoid'))\n",
    "model.compile(loss='binary_crossentropy', optimizer='adam')\n",
    "model.fit(x_train, y_train, epochs=150, batch_size=10)"
   ]
  },
  {
   "cell_type": "markdown",
   "metadata": {},
   "source": [
    "### Saving Neural Network"
   ]
  },
  {
   "cell_type": "code",
   "execution_count": 14,
   "metadata": {},
   "outputs": [],
   "source": [
    "model_json = model.to_json()\n",
    "with open('models/neural_network.json', 'w') as json_file:\n",
    "    json_file.write(model_json)\n",
    "model.save_weights('models/neural_network.h5')"
   ]
  }
 ],
 "metadata": {
  "kernelspec": {
   "display_name": "dw-env",
   "language": "python",
   "name": "dw-env"
  },
  "language_info": {
   "codemirror_mode": {
    "name": "ipython",
    "version": 3
   },
   "file_extension": ".py",
   "mimetype": "text/x-python",
   "name": "python",
   "nbconvert_exporter": "python",
   "pygments_lexer": "ipython3",
   "version": "3.6.1"
  }
 },
 "nbformat": 4,
 "nbformat_minor": 4
}
