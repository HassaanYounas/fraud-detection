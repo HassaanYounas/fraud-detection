{
 "cells": [
  {
   "cell_type": "markdown",
   "metadata": {},
   "source": [
    "### All imports in one place"
   ]
  },
  {
   "cell_type": "code",
   "execution_count": 17,
   "metadata": {},
   "outputs": [],
   "source": [
    "import pandas as pd\n",
    "from sklearn.model_selection import train_test_split"
   ]
  },
  {
   "cell_type": "markdown",
   "metadata": {},
   "source": [
    "### Loading the dataset file downloaded from kaggle.com"
   ]
  },
  {
   "cell_type": "code",
   "execution_count": 18,
   "metadata": {},
   "outputs": [],
   "source": [
    "dataset = pd.read_csv('corpora/dataset.csv')"
   ]
  },
  {
   "cell_type": "markdown",
   "metadata": {},
   "source": [
    "### Extracting a small chunk of the entire dataset\n",
    "\n",
    "Since the working with the complete dataset takes too much time on our machine"
   ]
  },
  {
   "cell_type": "code",
   "execution_count": 19,
   "metadata": {},
   "outputs": [],
   "source": [
    "count = 0\n",
    "reducedDataset = pd.DataFrame({\n",
    "    'step': [],\n",
    "    'type': [],\n",
    "    'amount': [],\n",
    "    'nameOrig': [],\n",
    "    'oldbalanceOrg': [],\n",
    "    'newbalanceOrig': [],\n",
    "    'nameDest': [],\n",
    "    'oldbalanceDest': [],\n",
    "    'newbalanceDest': [],\n",
    "    'isFraud': [],\n",
    "    'isFlaggedFraud': []\n",
    "})\n",
    "\n",
    "for i in dataset.index:\n",
    "    if dataset.at[i, 'isFraud'] == 1:\n",
    "        reducedDataset = reducedDataset.append({\n",
    "            'step': dataset.at[i, 'step'],\n",
    "            'type': dataset.at[i, 'type'],\n",
    "            'amount': dataset.at[i, 'amount'],\n",
    "            'nameOrig': dataset.at[i, 'nameOrig'],\n",
    "            'oldbalanceOrg': dataset.at[i, 'oldbalanceOrg'],\n",
    "            'newbalanceOrig': dataset.at[i, 'newbalanceOrig'],\n",
    "            'nameDest': dataset.at[i, 'nameDest'],\n",
    "            'oldbalanceDest': dataset.at[i, 'oldbalanceDest'],\n",
    "            'newbalanceDest': dataset.at[i, 'newbalanceDest'],\n",
    "            'isFraud': dataset.at[i, 'isFraud'],\n",
    "            'isFlaggedFraud': dataset.at[i, 'isFlaggedFraud'],\n",
    "        }, ignore_index=True)\n",
    "    elif dataset.at[i, 'isFraud'] == 0:\n",
    "        if count == 20000:\n",
    "            continue\n",
    "        reducedDataset = reducedDataset.append({\n",
    "            'step': dataset.at[i, 'step'],\n",
    "            'type': dataset.at[i, 'type'],\n",
    "            'amount': dataset.at[i, 'amount'],\n",
    "            'nameOrig': dataset.at[i, 'nameOrig'],\n",
    "            'oldbalanceOrg': dataset.at[i, 'oldbalanceOrg'],\n",
    "            'newbalanceOrig': dataset.at[i, 'newbalanceOrig'],\n",
    "            'nameDest': dataset.at[i, 'nameDest'],\n",
    "            'oldbalanceDest': dataset.at[i, 'oldbalanceDest'],\n",
    "            'newbalanceDest': dataset.at[i, 'newbalanceDest'],\n",
    "            'isFraud': dataset.at[i, 'isFraud'],\n",
    "            'isFlaggedFraud': dataset.at[i, 'isFlaggedFraud'],\n",
    "        }, ignore_index=True)\n",
    "        count += 1"
   ]
  },
  {
   "cell_type": "markdown",
   "metadata": {},
   "source": [
    "### Removing the isFraud column and moving it into a separate Dataframe"
   ]
  },
  {
   "cell_type": "code",
   "execution_count": 20,
   "metadata": {},
   "outputs": [],
   "source": [
    "isFraud = reducedDataset['isFraud']\n",
    "data = { 'isFraud': isFraud }\n",
    "labels = pd.DataFrame(data)\n",
    "reducedDataset.drop('isFraud', axis=1, inplace=True)"
   ]
  },
  {
   "cell_type": "markdown",
   "metadata": {},
   "source": [
    "### Spliting the reduced dataset into two parts (67% for training and 33% for testing)"
   ]
  },
  {
   "cell_type": "code",
   "execution_count": 21,
   "metadata": {},
   "outputs": [],
   "source": [
    "x_train, x_test, y_train, y_test = train_test_split(reducedDataset, labels, test_size=0.33, random_state=42)"
   ]
  },
  {
   "cell_type": "markdown",
   "metadata": {},
   "source": [
    "### Saving the training and testing sets into CSV files"
   ]
  },
  {
   "cell_type": "code",
   "execution_count": 22,
   "metadata": {},
   "outputs": [],
   "source": [
    "x_train.to_csv(r'corpora/x_train.csv', index=False)\n",
    "y_train.to_csv(r'corpora/y_train.csv', index=False)\n",
    "x_test.to_csv(r'corpora/x_test.csv', index=False)\n",
    "y_test.to_csv(r'corpora/y_test.csv', index=False)"
   ]
  }
 ],
 "metadata": {
  "kernelspec": {
   "display_name": "dw-env",
   "language": "python",
   "name": "dw-env"
  },
  "language_info": {
   "codemirror_mode": {
    "name": "ipython",
    "version": 3
   },
   "file_extension": ".py",
   "mimetype": "text/x-python",
   "name": "python",
   "nbconvert_exporter": "python",
   "pygments_lexer": "ipython3",
   "version": "3.6.1"
  }
 },
 "nbformat": 4,
 "nbformat_minor": 4
}
